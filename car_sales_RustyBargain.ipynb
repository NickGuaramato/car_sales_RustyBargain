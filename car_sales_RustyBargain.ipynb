{
 "cells": [
  {
   "cell_type": "markdown",
   "metadata": {},
   "source": [
    "# INTRODUCCIÓN\n",
    "\n",
    "El servicio de venta de autos usados Rusty Bargain está desarrollando una aplicación para atraer nuevos clientes. Gracias a esa app, se puede saber rápidamente el valor de mercado de tu coche. Se tiene acceso al historial: especificaciones técnicas, versiones de equipamiento y precios.\n",
    "\n",
    "Se va a crear un modelo que determine el valor del mercado de los mismos\n",
    "A Rusty Bargain le interesa:\n",
    "- la calidad de la predicción;\n",
    "- la velocidad de la predicción;\n",
    "- el tiempo requerido para el entrenamiento"
   ]
  },
  {
   "cell_type": "markdown",
   "metadata": {},
   "source": [
    "## Preparación de datos"
   ]
  },
  {
   "cell_type": "code",
   "execution_count": 32,
   "metadata": {},
   "outputs": [],
   "source": [
    "#Librerías Necesarias\n",
    "import pandas as pd\n",
    "import numpy as np\n",
    "\n",
    "import matplotlib.pyplot as plt\n",
    "import seaborn as sns\n",
    "\n",
    "from sklearn.model_selection import train_test_split\n",
    "from sklearn.tree import DecisionTreeRegressor\n",
    "from sklearn.ensemble import RandomForestRegressor\n",
    "from sklearn.linear_model import LinearRegression\n",
    "from sklearn.linear_model import LogisticRegression\n",
    "from sklearn.preprocessing import StandardScaler\n",
    "from sklearn.metrics import mean_squared_error\n",
    "from sklearn.model_selection import GridSearchCV\n",
    "from sklearn.preprocessing import OrdinalEncoder\n",
    "\n",
    "from catboost import CatBoostRegressor\n",
    "from xgboost import XGBRegressor\n",
    "from lightgbm import LGBMRegressor"
   ]
  },
  {
   "cell_type": "code",
   "execution_count": 3,
   "metadata": {},
   "outputs": [
    {
     "name": "stdout",
     "output_type": "stream",
     "text": [
      "<class 'pandas.core.frame.DataFrame'>\n",
      "RangeIndex: 354369 entries, 0 to 354368\n",
      "Data columns (total 16 columns):\n",
      " #   Column             Non-Null Count   Dtype \n",
      "---  ------             --------------   ----- \n",
      " 0   DateCrawled        354369 non-null  object\n",
      " 1   Price              354369 non-null  int64 \n",
      " 2   VehicleType        316879 non-null  object\n",
      " 3   RegistrationYear   354369 non-null  int64 \n",
      " 4   Gearbox            334536 non-null  object\n",
      " 5   Power              354369 non-null  int64 \n",
      " 6   Model              334664 non-null  object\n",
      " 7   Mileage            354369 non-null  int64 \n",
      " 8   RegistrationMonth  354369 non-null  int64 \n",
      " 9   FuelType           321474 non-null  object\n",
      " 10  Brand              354369 non-null  object\n",
      " 11  NotRepaired        283215 non-null  object\n",
      " 12  DateCreated        354369 non-null  object\n",
      " 13  NumberOfPictures   354369 non-null  int64 \n",
      " 14  PostalCode         354369 non-null  int64 \n",
      " 15  LastSeen           354369 non-null  object\n",
      "dtypes: int64(7), object(9)\n",
      "memory usage: 43.3+ MB\n",
      "None\n",
      "\n",
      "Estadística descriptiva de DataFrame:\n",
      "               Price  RegistrationYear          Power        Mileage  \\\n",
      "count  354369.000000     354369.000000  354369.000000  354369.000000   \n",
      "mean     4416.656776       2004.234448     110.094337  128211.172535   \n",
      "std      4514.158514         90.227958     189.850405   37905.341530   \n",
      "min         0.000000       1000.000000       0.000000    5000.000000   \n",
      "25%      1050.000000       1999.000000      69.000000  125000.000000   \n",
      "50%      2700.000000       2003.000000     105.000000  150000.000000   \n",
      "75%      6400.000000       2008.000000     143.000000  150000.000000   \n",
      "max     20000.000000       9999.000000   20000.000000  150000.000000   \n",
      "\n",
      "       RegistrationMonth  NumberOfPictures     PostalCode  \n",
      "count      354369.000000          354369.0  354369.000000  \n",
      "mean            5.714645               0.0   50508.689087  \n",
      "std             3.726421               0.0   25783.096248  \n",
      "min             0.000000               0.0    1067.000000  \n",
      "25%             3.000000               0.0   30165.000000  \n",
      "50%             6.000000               0.0   49413.000000  \n",
      "75%             9.000000               0.0   71083.000000  \n",
      "max            12.000000               0.0   99998.000000  \n"
     ]
    }
   ],
   "source": [
    "#Importando y checando información del DataFrame y su estadística descriptiva\n",
    "df = pd.read_csv(\"dataset/car_data.csv\")\n",
    "\n",
    "print(df.info())\n",
    "print()\n",
    "print('Estadística descriptiva de DataFrame:')\n",
    "print(df.describe())"
   ]
  },
  {
   "cell_type": "markdown",
   "metadata": {},
   "source": [
    "De lo explorado anteriormente, se tiene lo siguiente:\n",
    "- Columnas con letras Mayus/Minus mezcladas. Hay que separar entre palabras con guión bajo.\n",
    "\n",
    "- Cambiar tipo de datos que sean necesario.\n",
    "\n",
    "- Columna NumberOfPictures al poseer valores cero (min=0, max=0), puede ser eliminada.\n",
    "\n",
    "Además:\n",
    "\n",
    "- Price tiene valores de 0 a 20000.\n",
    "- Power tiene valores de 0 a 20000.\n",
    "- RegistrationYear tiene valores de 0 a 9999.\n",
    "- RegistrationMonth tiene valores de 0 a 12. Siendo que sólo son 12 meses lo que tiene un año. Estos vaalores se tratarán algunas celdas más abajo."
   ]
  },
  {
   "cell_type": "code",
   "execution_count": 4,
   "metadata": {},
   "outputs": [
    {
     "name": "stdout",
     "output_type": "stream",
     "text": [
      "Index(['date_crawled', 'price', 'vehicle_type', 'registration_year', 'gearbox',\n",
      "       'power', 'model', 'mileage', 'registration_month', 'fuel_type', 'brand',\n",
      "       'not_repaired', 'date_created', 'number_of_pictures', 'postal_code',\n",
      "       'last_seen'],\n",
      "      dtype='object')\n"
     ]
    }
   ],
   "source": [
    "#Cambiando formato de columnas para una mejor exploración de datos\n",
    "df.columns = df.columns.str.replace(r'([A-Z])', r'_\\1', regex=True).str.strip('_').str.lower()\n",
    "print(df.columns)#mostrando cambios"
   ]
  },
  {
   "cell_type": "code",
   "execution_count": 5,
   "metadata": {},
   "outputs": [
    {
     "name": "stdout",
     "output_type": "stream",
     "text": [
      "<class 'pandas.core.frame.DataFrame'>\n",
      "RangeIndex: 354369 entries, 0 to 354368\n",
      "Data columns (total 16 columns):\n",
      " #   Column              Non-Null Count   Dtype         \n",
      "---  ------              --------------   -----         \n",
      " 0   date_crawled        354369 non-null  datetime64[ns]\n",
      " 1   price               354369 non-null  int64         \n",
      " 2   vehicle_type        316879 non-null  category      \n",
      " 3   registration_year   354369 non-null  int64         \n",
      " 4   gearbox             334536 non-null  category      \n",
      " 5   power               354369 non-null  int64         \n",
      " 6   model               334664 non-null  object        \n",
      " 7   mileage             354369 non-null  int64         \n",
      " 8   registration_month  354369 non-null  int64         \n",
      " 9   fuel_type           321474 non-null  category      \n",
      " 10  brand               354369 non-null  object        \n",
      " 11  not_repaired        283215 non-null  object        \n",
      " 12  date_created        354369 non-null  datetime64[ns]\n",
      " 13  number_of_pictures  354369 non-null  int64         \n",
      " 14  postal_code         354369 non-null  int64         \n",
      " 15  last_seen           354369 non-null  datetime64[ns]\n",
      "dtypes: category(3), datetime64[ns](3), int64(7), object(3)\n",
      "memory usage: 36.2+ MB\n",
      "None\n"
     ]
    }
   ],
   "source": [
    "#Cambiando tipo de datos\n",
    "date_col = df[['date_crawled', 'date_created', 'last_seen']]\n",
    "category_col = df[['vehicle_type', 'fuel_type', 'gearbox']]\n",
    "for col in date_col:\n",
    "    df[col] = pd.to_datetime(df[col], format= '%d/%m/%Y %H:%M')\n",
    "    \n",
    "for col in category_col:\n",
    "    df[col] = df[col].astype('category')\n",
    "print(df.info())"
   ]
  },
  {
   "cell_type": "code",
   "execution_count": 6,
   "metadata": {},
   "outputs": [
    {
     "name": "stdout",
     "output_type": "stream",
     "text": [
      "Index(['price', 'vehicle_type', 'registration_year', 'gearbox', 'power',\n",
      "       'model', 'mileage', 'registration_month', 'fuel_type', 'brand',\n",
      "       'not_repaired'],\n",
      "      dtype='object')\n"
     ]
    }
   ],
   "source": [
    "#Eliminando columnas no necesarias\n",
    "df_new = df.drop(['number_of_pictures','date_crawled', 'date_created', 'last_seen', 'postal_code'], axis=1)\n",
    "print(df_new.columns)#observando cambios"
   ]
  },
  {
   "cell_type": "markdown",
   "metadata": {},
   "source": [
    "Las columnas date_crawled, date_created, last_seen y postal_code tambien se han eliminado debido a que las mismas son fechas que no tienen relación alguna con el objetivo solicitado, esto es, el precio."
   ]
  },
  {
   "cell_type": "code",
   "execution_count": 7,
   "metadata": {},
   "outputs": [
    {
     "name": "stdout",
     "output_type": "stream",
     "text": [
      "price                     0\n",
      "vehicle_type          37490\n",
      "registration_year         0\n",
      "gearbox               19833\n",
      "power                     0\n",
      "model                 19705\n",
      "mileage                   0\n",
      "registration_month        0\n",
      "fuel_type             32895\n",
      "brand                     0\n",
      "not_repaired          71154\n",
      "dtype: int64\n",
      "\n",
      "Valores duplicado: 27543\n"
     ]
    }
   ],
   "source": [
    "#Checando existencia de valores ausentes y duplicados\n",
    "print(df_new.isna().sum())\n",
    "print()\n",
    "print('Valores duplicado:', df_new.duplicated().sum())"
   ]
  },
  {
   "cell_type": "markdown",
   "metadata": {},
   "source": [
    "Más adelante se verá si se rellenan los valores ausentes con la moda (para categóricos) y la mediana (para númericos) o si se eliminaran los mismos."
   ]
  },
  {
   "cell_type": "code",
   "execution_count": 8,
   "metadata": {},
   "outputs": [
    {
     "name": "stdout",
     "output_type": "stream",
     "text": [
      "Total de registros duplicados: 49086\n",
      "        price vehicle_type  registration_year gearbox  power        model  \\\n",
      "199835      0          bus               1994  manual      0  transporter   \n",
      "283241      0          bus               1994  manual      0  transporter   \n",
      "82258       0          bus               1994  manual     68  transporter   \n",
      "254668      0          bus               1994  manual     68  transporter   \n",
      "107497      0          bus               1995  manual    102  transporter   \n",
      "...       ...          ...                ...     ...    ...          ...   \n",
      "320429  20000        sedan               2011    auto    265     c_klasse   \n",
      "320559  20000        sedan               2011    auto    265     c_klasse   \n",
      "321365  20000        sedan               2011    auto    265     c_klasse   \n",
      "142818  20000          suv               2011  manual    150       tiguan   \n",
      "143161  20000          suv               2011  manual    150       tiguan   \n",
      "\n",
      "        mileage  registration_month fuel_type          brand not_repaired  \n",
      "199835   150000                   1  gasoline     volkswagen          NaN  \n",
      "283241   150000                   1  gasoline     volkswagen          NaN  \n",
      "82258    150000                   5  gasoline     volkswagen          NaN  \n",
      "254668   150000                   5  gasoline     volkswagen          NaN  \n",
      "107497   150000                   5  gasoline     volkswagen           no  \n",
      "...         ...                 ...       ...            ...          ...  \n",
      "320429    50000                  11  gasoline  mercedes_benz           no  \n",
      "320559    50000                  11  gasoline  mercedes_benz           no  \n",
      "321365    50000                  11  gasoline  mercedes_benz           no  \n",
      "142818    80000                   5    petrol     volkswagen           no  \n",
      "143161    80000                   5    petrol     volkswagen           no  \n",
      "\n",
      "[49086 rows x 11 columns]\n"
     ]
    }
   ],
   "source": [
    "#Tratando valores duplicados\n",
    "#Chequeamos la duplicidad de los mismos para saber si eliminarlos o no\n",
    "dup_row = df_new[df_new.duplicated(keep=False)]\n",
    "#keep=False asegura que todas las instancias duplicadas se marquen, no solo las adicionales.\n",
    "\n",
    "print(f'Total de registros duplicados: {len(dup_row)}')\n",
    "\n",
    "dup_row_sorted = dup_row.sort_values(list(df_new.columns))\n",
    "#Muestro filas duplicadas\n",
    "print(dup_row_sorted)"
   ]
  },
  {
   "cell_type": "markdown",
   "metadata": {},
   "source": [
    "Debido a lo mostrado anteriormente, se ha decidido eliminar los duplicados del DataFrame, pues en un pequeño análisis se pudo observar los duplicados explicitos de este. El mismo repetía datos ya existentes."
   ]
  },
  {
   "cell_type": "code",
   "execution_count": 9,
   "metadata": {},
   "outputs": [
    {
     "name": "stdout",
     "output_type": "stream",
     "text": [
      "Valores duplicados: 0\n"
     ]
    }
   ],
   "source": [
    "#Eliminando duplicados\n",
    "df_new.drop_duplicates(inplace= True)\n",
    "#Muestro la existencia de los cambios\n",
    "print(f'Valores duplicados: {df_new.duplicated().sum()}')"
   ]
  },
  {
   "cell_type": "markdown",
   "metadata": {},
   "source": [
    "Antes de tratar los valores ausentes se trabajaran datos de dudosa información (atípicos) teniendo en cuenta los objetivos de Rusty Bargain. Tales datos se pueden observar en la columna 'registration_year', 'power' y 'registration_month'"
   ]
  },
  {
   "cell_type": "markdown",
   "metadata": {},
   "source": [
    "### Valores Atípicos"
   ]
  },
  {
   "cell_type": "code",
   "execution_count": 10,
   "metadata": {},
   "outputs": [
    {
     "name": "stdout",
     "output_type": "stream",
     "text": [
      "Año más bajo registrado: 1000\n",
      "Año más alto registrado: 9999\n",
      "Potencia más bajo registrado: 0\n",
      "Potencia más alto registrado: 20000\n",
      "Mes más bajo registrado: 0\n",
      "Mes más alto registrado: 12\n"
     ]
    }
   ],
   "source": [
    "#Observando mínimos y máximos en columna con datos sospechosamente errados\n",
    "columns = [\n",
    "    ('registration_year', 'Año'),\n",
    "    ('power', 'Potencia'),\n",
    "    ('registration_month', 'Mes')\n",
    "]\n",
    "\n",
    "for col, description in columns:\n",
    "    print(f'{description} más bajo registrado: {df_new[col].min()}')\n",
    "    print(f'{description} más alto registrado: {df_new[col].max()}')"
   ]
  },
  {
   "cell_type": "markdown",
   "metadata": {},
   "source": [
    "- El año más bajo registrado para un automovil en el Dataset es 1000 y el más alto es 9999. Teniendo en cuenta que nos encontramos en el año 2024 y, además, la invención del automovil se remonta a 1886 con el primer vehiculo de tres ruedas impulsado por gasolina, se pueden filtrar tales valores acotandolos entre tales fechas.\n",
    "Por cuestiones de comodidad y considerando que el auge de las marcas inicia a partir de 1900, el rango a usar en el filtrado de tales datos será (1900, 2024).\n",
    "\n",
    "- Se tiene además que la potencia mínima de vehiculos registrados en Dataset es de 0. Obviamente, un coche con potencia cero implica un coche, o sin motor o un no-coche(siendo que el mínimo para un auto es de 60CV). Mientras que para la potencia máxima se tiene 20000 CV, como actualmente en el mercado el automovil con mayor potencia es el Lotus Evija (contando con una potencia de 2039CV), esto podría tratarse de un simple error de tipeo. Se verá a continuación.\n",
    "\n",
    "- Para el mes de registro, se tiene un mínimo de 0 y máximo de 12. El mínimo podría indicar que, quizás, el vendedor olvidó proveer tal información a Rusty.\n",
    "\n",
    "Los datos anteriores se tratarán, ya sea eliminando lo necesario o rellenando datos con lo debido, antes de proceder con los valores ausentes existentes en el Dataset."
   ]
  },
  {
   "cell_type": "code",
   "execution_count": 11,
   "metadata": {},
   "outputs": [
    {
     "name": "stdout",
     "output_type": "stream",
     "text": [
      "count    326663.000000\n",
      "mean       2003.059955\n",
      "std           7.600719\n",
      "min        1910.000000\n",
      "25%        1999.000000\n",
      "50%        2003.000000\n",
      "75%        2008.000000\n",
      "max        2019.000000\n",
      "Name: registration_year, dtype: float64\n"
     ]
    }
   ],
   "source": [
    "#Filtrando y acotando datos para columna del año de registro (registration_year)\n",
    "df_new_filt = df_new.query('1900 <= registration_year <= 2024')\n",
    "print(df_new_filt['registration_year'].describe())#compruebo cambios"
   ]
  },
  {
   "cell_type": "code",
   "execution_count": 12,
   "metadata": {},
   "outputs": [
    {
     "name": "stdout",
     "output_type": "stream",
     "text": [
      "count    314923.00000\n",
      "mean       4568.73873\n",
      "std        4519.52608\n",
      "min         100.00000\n",
      "25%        1200.00000\n",
      "50%        2899.00000\n",
      "75%        6500.00000\n",
      "max       20000.00000\n",
      "Name: price, dtype: float64\n"
     ]
    }
   ],
   "source": [
    "#filtrando precio para valores mayores o iguales a 100 (price)\n",
    "df_new_filt = df_new_filt.query('price >= 100')\n",
    "print(df_new_filt['price'].describe())#compruebo"
   ]
  },
  {
   "cell_type": "markdown",
   "metadata": {},
   "source": [
    "Se ha decidido filtrar de la anterior forma debido a que se construirá un modelo que prediga tales valores (los ceros), además de que, sea dicho de paso, precios por debajo de 100 euros son casos en extremo específicos, como promociones, precio simbólico de venta, subasta, etc."
   ]
  },
  {
   "cell_type": "code",
   "execution_count": 13,
   "metadata": {},
   "outputs": [
    {
     "name": "stdout",
     "output_type": "stream",
     "text": [
      "count    279720.000000\n",
      "mean        121.842260\n",
      "std          63.716551\n",
      "min          45.000000\n",
      "25%          78.000000\n",
      "50%         111.000000\n",
      "75%         150.000000\n",
      "max        2000.000000\n",
      "Name: power, dtype: float64\n"
     ]
    }
   ],
   "source": [
    "#Limitando valores en la columna de potencia  y sustituyendo valores atípicos con valores NaN(power)\n",
    "df_new_filt = df_new_filt.query('power <= 2000')\n",
    "#reemplazo\n",
    "df_new_filt.loc[df_new_filt['power'] < 45, 'power'] = np.nan\n",
    "print(df_new_filt['power'].describe())#compruebo"
   ]
  },
  {
   "cell_type": "markdown",
   "metadata": {},
   "source": [
    "En la celda anterior se filtró la potencia para valores menores o iguales a 2000. Se conservan todos los valores por debajo de este (incluyendo los de potencia 0) para luego tratar el mínimo arrojado por el Dataset (valor extraño/atípico) como un valor ausente, y luego, en el apartado donde se tratarán los valores ausentes, se procederá a rellenar o elimminar tales datos, dependiendo del análisis y a la conclusión a la que se llegue para crear un modelo robusto.\n",
    "\n",
    "Se ha decidido hacer para valores menores a 45 debido a que en el mercado, desde el año 1960 con la producción del Peel P50, la gran mayoría de los coches comerciales chicos, cuya caracteristica más notable es su baja potencia, van por encima de los 45CV."
   ]
  },
  {
   "cell_type": "code",
   "execution_count": 14,
   "metadata": {},
   "outputs": [
    {
     "name": "stdout",
     "output_type": "stream",
     "text": [
      "registration_month\n",
      "1     0.066093\n",
      "2     0.060785\n",
      "3     0.098572\n",
      "4     0.084428\n",
      "5     0.083176\n",
      "6     0.184823\n",
      "7     0.078240\n",
      "8     0.064362\n",
      "9     0.067939\n",
      "10    0.074269\n",
      "11    0.068390\n",
      "12    0.068923\n",
      "Name: proportion, dtype: float64\n"
     ]
    }
   ],
   "source": [
    "#Tratando valores atípicos. Mes 0 (registration_month)\n",
    "#Reemplanzando con la mediana\n",
    "df_new_filt.loc[df_new_filt['registration_month'] == 0, 'registration_month'] = df_new_filt['registration_month'].median()\n",
    "df_new_filt['registration_month'] = df_new_filt['registration_month'].astype('int')\n",
    "print(df_new_filt['registration_month'].value_counts(normalize=True).sort_index())#compruebo valores únicos"
   ]
  },
  {
   "cell_type": "markdown",
   "metadata": {},
   "source": [
    "### Valores Ausentes\n",
    "\n",
    "Tratando los valores ausentes en: vehicle_type, gearbox, fuel_type, model, not_repaired y power."
   ]
  },
  {
   "cell_type": "code",
   "execution_count": 15,
   "metadata": {},
   "outputs": [
    {
     "name": "stdout",
     "output_type": "stream",
     "text": [
      "price                     0\n",
      "vehicle_type          31018\n",
      "registration_year         0\n",
      "gearbox               14652\n",
      "power                 35094\n",
      "model                 16282\n",
      "mileage                   0\n",
      "registration_month        0\n",
      "fuel_type             27204\n",
      "brand                     0\n",
      "not_repaired          60412\n",
      "dtype: int64\n"
     ]
    }
   ],
   "source": [
    "#Observo el DF actualizado respecto a los valores ausentes\n",
    "print(df_new_filt.isna().sum())"
   ]
  },
  {
   "cell_type": "markdown",
   "metadata": {},
   "source": [
    "Se intentarán rellenar tales valores ausentes creando funciones que se implementarán en cada columna para lograr esto, a su vez, se tratarán aquellos que no pudieron haber sido rellenados eliminando los mismos."
   ]
  },
  {
   "cell_type": "code",
   "execution_count": 16,
   "metadata": {},
   "outputs": [],
   "source": [
    "#Función moda para usar en columnas de datos categóricos faltantes\n",
    "def mode_f(var):#creo una función para la moda\n",
    "    return var.mode().iloc[0] if len(var) > 0 else np.nan"
   ]
  },
  {
   "cell_type": "markdown",
   "metadata": {},
   "source": [
    "#### vehicle_type\n",
    "\n",
    "Los tipos de vehiculos están relacionados respecto a la marca y al modelo del coche, por lo que se procederá a usar tales categorías para rellenar los valores ausentes con la moda."
   ]
  },
  {
   "cell_type": "code",
   "execution_count": 17,
   "metadata": {},
   "outputs": [
    {
     "name": "stdout",
     "output_type": "stream",
     "text": [
      "Cantidad de valores ausentes luego de aplicar función: 4963\n"
     ]
    }
   ],
   "source": [
    "vehicle_values = df_new_filt.dropna(subset=['vehicle_type', 'model'])\n",
    "\n",
    "vehicle_model = vehicle_values.groupby(['brand','model'])['vehicle_type'].agg(mode_f).reset_index()\n",
    "vehicle_model_dict = vehicle_model.set_index(['brand', 'model'])['vehicle_type'].to_dict()\n",
    "\n",
    "def filling_v(row):\n",
    "    model = row['model']\n",
    "    vehicle = row['vehicle_type']\n",
    "    brand = row['brand']\n",
    "\n",
    "    if pd.isna(vehicle):\n",
    "        return vehicle_model_dict.get((brand, model), np.nan)\n",
    "    return vehicle\n",
    "\n",
    "#aplico función al Dataset y almaceno en columna\n",
    "df_new_filt['vehicle_type'] = df_new_filt.apply(filling_v, axis=1)\n",
    "\n",
    "#Compruebo existencia de valores ausentes luego de la función\n",
    "no_value_v = df_new_filt[df_new_filt['vehicle_type'].isna()]\n",
    "print(f'Cantidad de valores ausentes luego de aplicar función: {len(no_value_v)}')"
   ]
  },
  {
   "cell_type": "code",
   "execution_count": 18,
   "metadata": {},
   "outputs": [
    {
     "name": "stdout",
     "output_type": "stream",
     "text": [
      "Cantidad de valores ausentes luego de eliminar filas: 0\n"
     ]
    }
   ],
   "source": [
    "#elimino los que no pudieron ser rellenados\n",
    "df_new_filt = df_new_filt.dropna(subset=['vehicle_type'])\n",
    "no_nan_v = df_new_filt[df_new_filt['vehicle_type'].isna()]\n",
    "print(f'Cantidad de valores ausentes luego de eliminar filas: {len(no_nan_v)}')"
   ]
  },
  {
   "cell_type": "markdown",
   "metadata": {},
   "source": [
    "#### gearbox\n",
    "\n",
    "Como el tipo de caja está relacionada con respecto al modelo y la marca del vehiculo, se intentarán rellenar los valores ausentes con la moda de las mismas por ser variables categóricas."
   ]
  },
  {
   "cell_type": "code",
   "execution_count": 20,
   "metadata": {},
   "outputs": [
    {
     "name": "stdout",
     "output_type": "stream",
     "text": [
      "Cantidad de valores ausentes luego de aplicar función: 875\n"
     ]
    }
   ],
   "source": [
    "#Filtrando columnas\n",
    "gearbox_values = df_new_filt.dropna(subset=['gearbox', 'model'])\n",
    "\n",
    "gearbox_model = gearbox_values.groupby(['brand', 'model'])['gearbox'].agg(mode_f).reset_index()\n",
    "gearbox_model_dict = gearbox_model.set_index(['brand', 'model'])['gearbox'].to_dict()\n",
    "\n",
    "def filling_g(row):#creo función que llenará la columna con los valores faltantantes\n",
    "    model = row['model']\n",
    "    gearbox = row['gearbox']\n",
    "    brand = row['brand']\n",
    "\n",
    "    if pd.isna(gearbox):\n",
    "        return gearbox_model_dict.get((brand, model), np.nan)\n",
    "    return gearbox\n",
    "\n",
    "#aplico función a Dataset y guardo en columna del mismo\n",
    "df_new_filt['gearbox'] = df_new_filt.apply(filling_g, axis=1)\n",
    "\n",
    "#Comprobando si existen valores sin rellenar\n",
    "no_value_g = df_new_filt[df_new_filt['gearbox'].isna()]\n",
    "print(f'Cantidad de valores ausentes luego de aplicar función: {len(no_value_g)}')"
   ]
  },
  {
   "cell_type": "code",
   "execution_count": 21,
   "metadata": {},
   "outputs": [
    {
     "name": "stdout",
     "output_type": "stream",
     "text": [
      "Cantidad de valores ausentes luego de eliminar filas: 0\n"
     ]
    }
   ],
   "source": [
    "df_new_filt = df_new_filt.dropna(subset=['gearbox'])\n",
    "no_nan_g = df_new_filt[df_new_filt['gearbox'].isna()]\n",
    "print(f'Cantidad de valores ausentes luego de eliminar filas: {len(no_nan_g)}')"
   ]
  },
  {
   "cell_type": "markdown",
   "metadata": {},
   "source": [
    "#### fuel_type\n",
    "\n",
    "Como petrol = gasoline, primero se procederá a hacer tal reemplazo antes de proceder a filtrar los valores respecto al modelo del vehiculo, el cual está relacionado con el tipo de combustible que estos usan."
   ]
  },
  {
   "cell_type": "code",
   "execution_count": 22,
   "metadata": {},
   "outputs": [
    {
     "name": "stderr",
     "output_type": "stream",
     "text": [
      "/tmp/ipykernel_47168/773678940.py:2: FutureWarning: The behavior of Series.replace (and DataFrame.replace) with CategoricalDtype is deprecated. In a future version, replace will only be used for cases that preserve the categories. To change the categories, use ser.cat.rename_categories instead.\n",
      "  df_new_filt['fuel_type'] = df_new_filt['fuel_type'].replace('petrol', 'gasoline')\n"
     ]
    },
    {
     "name": "stdout",
     "output_type": "stream",
     "text": [
      "Cantidad de valores ausentes luego de aplicar función: 2021\n"
     ]
    }
   ],
   "source": [
    "#Reemplazo\n",
    "df_new_filt['fuel_type'] = df_new_filt['fuel_type'].replace('petrol', 'gasoline')\n",
    "\n",
    "#Filtro\n",
    "fuel_values = df_new_filt.dropna(subset=['fuel_type', 'model'])\n",
    "\n",
    "fuel_model = fuel_values.groupby(['model'])['fuel_type'].agg(mode_f).reset_index()\n",
    "fuel_model_dict = fuel_model.set_index(['model'])['fuel_type'].to_dict()\n",
    "\n",
    "def filling_f(row):#creo función\n",
    "    model = row['model']\n",
    "    fuel = row['fuel_type']\n",
    "    \n",
    "    if pd.isna(fuel):\n",
    "        return fuel_model_dict.get(model, np.nan)\n",
    "    return fuel\n",
    "\n",
    "#aplico función al Dataset y almaceno en columna\n",
    "df_new_filt['fuel_type'] = df_new_filt.apply(filling_f, axis=1)\n",
    "\n",
    "#Compruebo existencia de valores ausentes luego de la función\n",
    "no_value_f = df_new_filt[df_new_filt['fuel_type'].isna()]\n",
    "print(f'Cantidad de valores ausentes luego de aplicar función: {len(no_value_f)}')"
   ]
  },
  {
   "cell_type": "code",
   "execution_count": 23,
   "metadata": {},
   "outputs": [
    {
     "name": "stdout",
     "output_type": "stream",
     "text": [
      "Cantidad de valores ausentes luego de eliminar filas: 0\n"
     ]
    }
   ],
   "source": [
    "df_new_filt = df_new_filt.dropna(subset=['fuel_type'])\n",
    "no_nan_f = df_new_filt[df_new_filt['fuel_type'].isna()]\n",
    "print(f'Cantidad de valores ausentes luego de eliminar filas: {len(no_nan_f)}')"
   ]
  },
  {
   "cell_type": "markdown",
   "metadata": {},
   "source": [
    "#### model\n",
    "\n",
    "Los modelos tienen una relación directa con la marca del coche y el año en que fueron puestos al mercado."
   ]
  },
  {
   "cell_type": "code",
   "execution_count": 24,
   "metadata": {},
   "outputs": [
    {
     "name": "stdout",
     "output_type": "stream",
     "text": [
      "Cantidad de valores ausentes luego de aplicar función: 8423\n"
     ]
    }
   ],
   "source": [
    "model_values = df_new_filt.dropna(subset=['model'])\n",
    "\n",
    "model_brand = model_values.groupby(['brand','registration_year'])['model'].agg(mode_f).reset_index()\n",
    "model_brand_dict = model_brand.set_index(['brand', 'registration_year'])['model'].to_dict()\n",
    "\n",
    "def filling_m(row):\n",
    "    model = row['model']\n",
    "    year = row['registration_year']\n",
    "    brand = row['brand']\n",
    "\n",
    "    if pd.isna(model):\n",
    "        return model_brand_dict.get((brand, model), np.nan)\n",
    "    return model\n",
    "\n",
    "#aplico función al Dataset y almaceno en columna\n",
    "df_new_filt['model'] = df_new_filt.apply(filling_m, axis=1)\n",
    "\n",
    "#Compruebo existencia de valores ausentes luego de la función\n",
    "no_value_m = df_new_filt[df_new_filt['model'].isna()]\n",
    "print(f'Cantidad de valores ausentes luego de aplicar función: {len(no_value_m)}')"
   ]
  },
  {
   "cell_type": "code",
   "execution_count": 25,
   "metadata": {},
   "outputs": [
    {
     "name": "stdout",
     "output_type": "stream",
     "text": [
      "Cantidad de valores ausentes luego de eliminar filas: 0\n"
     ]
    }
   ],
   "source": [
    "df_new_filt = df_new_filt.dropna(subset=['model'])\n",
    "no_nan_m = df_new_filt[df_new_filt['model'].isna()]\n",
    "print(f'Cantidad de valores ausentes luego de eliminar filas: {len(no_nan_m)}')"
   ]
  },
  {
   "cell_type": "markdown",
   "metadata": {},
   "source": [
    "#### power\n",
    "\n",
    "Ahora se intentarán rellenar los valores ausentes en este columna en función del modelo del coche, ya que la potencia está relacionado con el mismo."
   ]
  },
  {
   "cell_type": "code",
   "execution_count": 26,
   "metadata": {},
   "outputs": [
    {
     "name": "stdout",
     "output_type": "stream",
     "text": [
      "Cantidad de valores ausentes luego de aplicar función: 30332\n"
     ]
    }
   ],
   "source": [
    "#filtrando\n",
    "df_new_filt['power'] = pd.to_numeric(df_new_filt['power'], errors='coerce')#cambio tipo de dato a númerico\n",
    "power_values = df_new_filt.dropna(subset=['power'])\n",
    "\n",
    "power_model = power_values.groupby(['model'])['power'].median().reset_index()\n",
    "power_model_dict = power_model.set_index(['model'])['power'].to_dict()\n",
    "\n",
    "def filling_p(row):\n",
    "    model = row['model']\n",
    "    power = row['power']\n",
    "\n",
    "    if pd.isna(power):\n",
    "        return model_brand_dict.get(model, np.nan)\n",
    "    return power\n",
    "\n",
    "#Aplico y almaceno\n",
    "df_new_filt['power'] = df_new_filt.apply(filling_p, axis=1)\n",
    "\n",
    "#compruebo existencia de ausentes luego de aplicada la función\n",
    "no_value_p = df_new_filt[df_new_filt['power'].isna()]\n",
    "print(f'Cantidad de valores ausentes luego de aplicar función: {len(no_value_p)}')"
   ]
  },
  {
   "cell_type": "code",
   "execution_count": 27,
   "metadata": {},
   "outputs": [
    {
     "name": "stdout",
     "output_type": "stream",
     "text": [
      "Cantidad de valores ausentes luego de eliminar filas: 0\n"
     ]
    }
   ],
   "source": [
    "df_new_filt = df_new_filt.dropna(subset=['power'])\n",
    "no_nan_p = df_new_filt[df_new_filt['power'].isna()]\n",
    "print(f'Cantidad de valores ausentes luego de eliminar filas: {len(no_nan_p)}')"
   ]
  },
  {
   "cell_type": "markdown",
   "metadata": {},
   "source": [
    "#### not_repaired\n",
    "\n",
    "Como not_repaired depende de quien vende el autommovil, de si tal información fue proporcionada o no, se ha tomado la decisión de eliminar tales valores ausentes"
   ]
  },
  {
   "cell_type": "code",
   "execution_count": 28,
   "metadata": {},
   "outputs": [
    {
     "name": "stdout",
     "output_type": "stream",
     "text": [
      "price                     0\n",
      "vehicle_type              0\n",
      "registration_year         0\n",
      "gearbox                   0\n",
      "power                     0\n",
      "model                     0\n",
      "mileage                   0\n",
      "registration_month        0\n",
      "fuel_type                 0\n",
      "brand                     0\n",
      "not_repaired          39632\n",
      "dtype: int64\n",
      "Cantidad de valores ausentes luego de eliminar filas: 0\n"
     ]
    }
   ],
   "source": [
    "#Observó cantidad de valores ausentes\n",
    "print(df_new_filt.isna().sum())\n",
    "#elimino\n",
    "df_new_filt = df_new_filt.dropna(subset=['not_repaired'])\n",
    "no_nan_not_r = df_new_filt[df_new_filt['power'].isna()]\n",
    "print(f'Cantidad de valores ausentes luego de eliminar filas: {len(no_nan_not_r)}')"
   ]
  },
  {
   "cell_type": "code",
   "execution_count": 29,
   "metadata": {},
   "outputs": [
    {
     "name": "stdout",
     "output_type": "stream",
     "text": [
      "<class 'pandas.core.frame.DataFrame'>\n",
      "RangeIndex: 228568 entries, 0 to 228567\n",
      "Data columns (total 11 columns):\n",
      " #   Column              Non-Null Count   Dtype  \n",
      "---  ------              --------------   -----  \n",
      " 0   price               228568 non-null  int64  \n",
      " 1   vehicle_type        228568 non-null  object \n",
      " 2   registration_year   228568 non-null  int64  \n",
      " 3   gearbox             228568 non-null  object \n",
      " 4   power               228568 non-null  float64\n",
      " 5   model               228568 non-null  object \n",
      " 6   mileage             228568 non-null  int64  \n",
      " 7   registration_month  228568 non-null  int64  \n",
      " 8   fuel_type           228568 non-null  object \n",
      " 9   brand               228568 non-null  object \n",
      " 10  not_repaired        228568 non-null  object \n",
      "dtypes: float64(1), int64(4), object(6)\n",
      "memory usage: 19.2+ MB\n",
      "None\n"
     ]
    }
   ],
   "source": [
    "#Nuevo DataFrame\n",
    "df_new_filt.reset_index(drop=True, inplace=True)\n",
    "print(df_new_filt.info())"
   ]
  },
  {
   "cell_type": "code",
   "execution_count": 31,
   "metadata": {},
   "outputs": [
    {
     "name": "stdout",
     "output_type": "stream",
     "text": [
      "                       price  registration_year     power   mileage  \\\n",
      "price               1.000000           0.485073  0.435873 -0.400043   \n",
      "registration_year   0.485073           1.000000  0.080923 -0.334778   \n",
      "power               0.435873           0.080923  1.000000  0.101538   \n",
      "mileage            -0.400043          -0.334778  0.101538  1.000000   \n",
      "registration_month  0.011892          -0.002466  0.017384  0.006372   \n",
      "\n",
      "                    registration_month  \n",
      "price                         0.011892  \n",
      "registration_year            -0.002466  \n",
      "power                         0.017384  \n",
      "mileage                       0.006372  \n",
      "registration_month            1.000000  \n"
     ]
    }
   ],
   "source": [
    "#Observo correlación\n",
    "numeric_df = df_new_filt.select_dtypes(include=[float, int])\n",
    "print(numeric_df.corr())"
   ]
  },
  {
   "cell_type": "code",
   "execution_count": 33,
   "metadata": {},
   "outputs": [
    {
     "data": {
      "image/png": "[encoded data removed]",
      "text/plain": [
       "<Figure size 1000x1000 with 2 Axes>"
      ]
     },
     "metadata": {},
     "output_type": "display_data"
    }
   ],
   "source": [
    "#Graficamos\n",
    "correlation_matrix = numeric_df.corr()\n",
    "\n",
    "# Configuramos el tamaño de la figura\n",
    "plt.figure(figsize=(10, 10))\n",
    "\n",
    "#heatmap\n",
    "sns.heatmap(correlation_matrix, annot=True, cmap='coolwarm', fmt=\".2f\", linewidths=0.5)\n",
    "\n",
    "plt.title(\"Matriz de Correlación\")\n",
    "plt.show()"
   ]
  },
  {
   "cell_type": "markdown",
   "metadata": {},
   "source": [
    "De la correlación se ha obtenido lo siguiente:\n",
    "- Precio (price): \n",
    "    - respecto a año de registo (registration_year): correlación positiva, es decir, mientras más nuevo el vehiculo que ha sido registrado, más alto será su precio.\n",
    "    - respecto a potencia (power): positiva. Coche con mayor potencia tiende a ser más costoso.\n",
    "    - respecto a kilometraje (mileage): correlación negativa. Mientras más recorrido tenga el auto más económico será el mismo.\n",
    "\n",
    "- Año de registro (registration_year):\n",
    "    - respecto a potencia (power): Correlación muy débil. Indica que no hay relación respecto a esta característica.\n",
    "    - respecto a kilometraje (mileage): negativa. Sugiere que los vehiculos más antiguos RESPECTO AL AÑO DE REGISTRO MENOS RECIENTE tiende a tener mayor kilometraje."
   ]
  },
  {
   "cell_type": "markdown",
   "metadata": {},
   "source": [
    "## Entrenamiento del Modelo \n",
    "\n",
    "Antes de pasar a entrenar el modelo, primero crearemos una nueva característica en el Dataset ya filtrado. Esta característica tendrá como finalidad almacenar la antigüedad de cada vehiculo."
   ]
  },
  {
   "cell_type": "code",
   "execution_count": 34,
   "metadata": {},
   "outputs": [
    {
     "name": "stdout",
     "output_type": "stream",
     "text": [
      "        price vehicle_type  registration_year gearbox  power        model  \\\n",
      "0        1500        small               2001  manual   75.0         golf   \n",
      "1        3600        small               2008  manual   69.0        fabia   \n",
      "2         650        sedan               1995  manual  102.0          3er   \n",
      "3        2200  convertible               2004  manual  109.0      2_reihe   \n",
      "4        2000        sedan               2004  manual  105.0      3_reihe   \n",
      "...       ...          ...                ...     ...    ...          ...   \n",
      "228563   7900        sedan               2010  manual  140.0         golf   \n",
      "228564   5250        wagon               2016    auto  150.0          159   \n",
      "228565   3200        sedan               2004  manual  225.0         leon   \n",
      "228566   1199  convertible               2000    auto  101.0       fortwo   \n",
      "228567   9200          bus               1996  manual  102.0  transporter   \n",
      "\n",
      "        mileage  registration_month fuel_type       brand not_repaired  \\\n",
      "0        150000                   6  gasoline  volkswagen           no   \n",
      "1         90000                   7  gasoline       skoda           no   \n",
      "2        150000                  10  gasoline         bmw          yes   \n",
      "3        150000                   8  gasoline     peugeot           no   \n",
      "4        150000                  12  gasoline       mazda           no   \n",
      "...         ...                 ...       ...         ...          ...   \n",
      "228563   150000                   7  gasoline  volkswagen           no   \n",
      "228564   150000                  12  gasoline  alfa_romeo           no   \n",
      "228565   150000                   5  gasoline        seat          yes   \n",
      "228566   125000                   3  gasoline       smart           no   \n",
      "228567   150000                   3  gasoline  volkswagen           no   \n",
      "\n",
      "        vehicle_age  \n",
      "0                23  \n",
      "1                16  \n",
      "2                29  \n",
      "3                20  \n",
      "4                20  \n",
      "...             ...  \n",
      "228563           14  \n",
      "228564            8  \n",
      "228565           20  \n",
      "228566           24  \n",
      "228567           28  \n",
      "\n",
      "[228568 rows x 12 columns]\n",
      "\n",
      "count    228568.000000\n",
      "mean         20.467598\n",
      "std           6.415644\n",
      "min           5.000000\n",
      "25%          16.000000\n",
      "50%          20.000000\n",
      "75%          25.000000\n",
      "max         114.000000\n",
      "Name: vehicle_age, dtype: float64\n"
     ]
    }
   ],
   "source": [
    "actual_year = 2024\n",
    "df_new_filt['vehicle_age'] = actual_year - df_new_filt['registration_year']\n",
    "df_new_filt.rename(columns={'registration_year' : 'vehicle_age'})\n",
    "print(df_new_filt)\n",
    "print()\n",
    "print(df_new_filt['vehicle_age'].describe())"
   ]
  },
  {
   "cell_type": "code",
   "execution_count": 35,
   "metadata": {},
   "outputs": [
    {
     "name": "stdout",
     "output_type": "stream",
     "text": [
      "Index(['price', 'vehicle_type', 'registration_year', 'gearbox', 'power',\n",
      "       'model', 'mileage', 'fuel_type', 'brand', 'not_repaired',\n",
      "       'vehicle_age'],\n",
      "      dtype='object')\n"
     ]
    }
   ],
   "source": [
    "#Último ajuste\n",
    "df_new_filt = df_new_filt.drop(['registration_month'], axis=1)\n",
    "#observo cambios\n",
    "print(df_new_filt.columns)"
   ]
  },
  {
   "cell_type": "code",
   "execution_count": 36,
   "metadata": {},
   "outputs": [
    {
     "name": "stdout",
     "output_type": "stream",
     "text": [
      "Luego de codificado de frecuencia y escalado:\n",
      "   price  vehicle_type  registration_year   gearbox     power     model  \\\n",
      "0   1500      0.236862               2001  0.794998 -0.788873  0.084693   \n",
      "1   3600      0.236862               2008  0.794998 -0.887403  0.006956   \n",
      "2    650      0.300305               1995  0.794998 -0.345488  0.060144   \n",
      "3   2200      0.064939               2004  0.794998 -0.230537  0.015540   \n",
      "4   2000      0.300305               2004  0.794998 -0.296223  0.010798   \n",
      "\n",
      "    mileage  fuel_type     brand  not_repaired  vehicle_age  \n",
      "0  0.611530   0.981787  0.212256      0.885474     0.394724  \n",
      "1 -1.015947   0.981787  0.018025      0.885474    -0.696362  \n",
      "2  0.611530   0.981787  0.109591      0.114526     1.329940  \n",
      "3  0.611530   0.981787  0.031505      0.885474    -0.072884  \n",
      "4  0.611530   0.981787  0.016446      0.885474    -0.072884  \n"
     ]
    }
   ],
   "source": [
    "#Codificación y Escalado\n",
    "categorical_cols = ['vehicle_type', 'gearbox', 'fuel_type', 'brand', 'model', 'not_repaired']\n",
    "numerical_cols = ['power', 'mileage', 'vehicle_age']\n",
    "\n",
    "#Asigno a variable que luego será usada\n",
    "df_new_filt_OHE = df_new_filt.copy()\n",
    "\n",
    "#Codifico frecuencia para columnas categóricas\n",
    "#Asigno proporción de su aparición en las respectivas columnas\n",
    "for col in categorical_cols:\n",
    "    encod_frequency = df_new_filt_OHE[col].value_counts() / len(df_new_filt_OHE)\n",
    "    df_new_filt_OHE[col] = df_new_filt_OHE[col].map(encod_frequency)\n",
    "\n",
    "#Escalo características númericas\n",
    "scaler = StandardScaler()\n",
    "df_new_filt_OHE[numerical_cols] = scaler.fit_transform(df_new_filt_OHE[numerical_cols])\n",
    "\n",
    "#Observo\n",
    "print('Luego de codificado de frecuencia y escalado:')\n",
    "print(df_new_filt_OHE.head())"
   ]
  },
  {
   "cell_type": "code",
   "execution_count": 37,
   "metadata": {},
   "outputs": [
    {
     "name": "stdout",
     "output_type": "stream",
     "text": [
      "(171426, 10) (57142, 10)\n"
     ]
    }
   ],
   "source": [
    "#Características y Objetivo\n",
    "#Dividiendo el Dataset y verificando conjunto\n",
    "X = df_new_filt_OHE.drop('price', axis=1)\n",
    "y = df_new_filt_OHE['price']\n",
    "\n",
    "#entrenamiento y prueba\n",
    "X_train, X_test, y_train, y_test = train_test_split(X, y, test_size=0.25, random_state=12345)\n",
    "\n",
    "#verificando forma\n",
    "print(X_train.shape, X_test.shape)"
   ]
  },
  {
   "cell_type": "markdown",
   "metadata": {},
   "source": [
    "### Regresión Lineal"
   ]
  },
  {
   "cell_type": "code",
   "execution_count": 38,
   "metadata": {},
   "outputs": [
    {
     "name": "stdout",
     "output_type": "stream",
     "text": [
      "CPU times: user 138 ms, sys: 87.7 ms, total: 226 ms\n",
      "Wall time: 154 ms\n",
      "CPU times: user 29.4 ms, sys: 0 ns, total: 29.4 ms\n",
      "Wall time: 6.57 ms\n",
      "RMSE de Regresión Lineal: 3151.9769492467467\n"
     ]
    }
   ],
   "source": [
    "lr_model = LinearRegression()\n",
    "%time lr_model.fit(X_train, y_train)#comando para medir tiempo de ejecución en toda la celda\n",
    "%time lr_predict = lr_model.predict(X_test)\n",
    "lr_rmse = mean_squared_error(y_test, lr_predict)**0.5\n",
    "print(f'RMSE de Regresión Lineal: {lr_rmse}')"
   ]
  },
  {
   "cell_type": "markdown",
   "metadata": {},
   "source": [
    "La regresión lineal ha devuelto un RMSE de 3152, siendo está la prueba de cordura y sierviendo como valor base para comparar los otros modelos y métodos de potenciación de gradiente. Necesitamos menos que lo arrojado en esta prueba de cordura."
   ]
  },
  {
   "cell_type": "markdown",
   "metadata": {},
   "source": [
    "### Árbol de Decisión\n",
    "\n",
    "Se empleará librería GridsearchCV para obtener lo mejores hiperparametros, luego se entrenará el modelo para finalizar con la medición del tiempo de entrenamiento y prueba según las instrucciones indicadas en el proyecto."
   ]
  },
  {
   "cell_type": "code",
   "execution_count": 39,
   "metadata": {},
   "outputs": [],
   "source": [
    "#hiperparámetros de árbol de decisión\n",
    "dt_params = {\n",
    "    'max_depth': [1, 2, 3, 4, 5, 6] ,\n",
    "    'min_samples_split': [2, 4, 6, 8],\n",
    "    'min_samples_leaf': [2, 4, 6, 8],\n",
    "}\n",
    "\n",
    "#GridSearchCV e hiperparámetros establecidos.\n",
    "#Metríca y valor para validación cruzada\n",
    "dt_grid = GridSearchCV(\n",
    "    estimator=DecisionTreeRegressor(),\n",
    "    param_grid=dt_params,\n",
    "    scoring='neg_root_mean_squared_error',\n",
    "    cv=3)"
   ]
  },
  {
   "cell_type": "code",
   "execution_count": 40,
   "metadata": {},
   "outputs": [
    {
     "name": "stdout",
     "output_type": "stream",
     "text": [
      "Hiperparámetros recomendados: {'max_depth': 6, 'min_samples_leaf': 2, 'min_samples_split': 4} | Mejor RSME: 2341.2328590341663\n"
     ]
    }
   ],
   "source": [
    "#entrenamos para encontrar mejores hiperparametros\n",
    "dt_grid.fit(X_train, y_train)\n",
    "#Buscamos mejores hiperparametros que devuelven más bajo RSME\n",
    "max_score = dt_grid.cv_results_['mean_test_score'].max()\n",
    "index_max_score = np.where(dt_grid.cv_results_['mean_test_score'] == max_score)[0][0]\n",
    "\n",
    "best_set_of_params = dt_grid.cv_results_['params'][index_max_score]\n",
    "print(f'Hiperparámetros recomendados: {best_set_of_params} | Mejor RSME: {-max_score}')"
   ]
  },
  {
   "cell_type": "code",
   "execution_count": 41,
   "metadata": {},
   "outputs": [
    {
     "name": "stdout",
     "output_type": "stream",
     "text": [
      "CPU times: user 429 ms, sys: 0 ns, total: 429 ms\n",
      "Wall time: 426 ms\n",
      "CPU times: user 9.27 ms, sys: 0 ns, total: 9.27 ms\n",
      "Wall time: 9.17 ms\n",
      "RMSE de Árbol de Decisión: 2327.674577983882\n"
     ]
    }
   ],
   "source": [
    "#Entrenamiento de modelo\n",
    "dt_model = DecisionTreeRegressor(random_state=12345, max_depth=6, min_samples_split=2, min_samples_leaf=2)\n",
    "%time dt_model.fit(X_train, y_train)\n",
    "%time dt_predict = dt_model.predict(X_test)\n",
    "dt_rmse = mean_squared_error(y_test, dt_predict)**0.5\n",
    "print(f'RMSE de Árbol de Decisión: {dt_rmse}')"
   ]
  },
  {
   "cell_type": "markdown",
   "metadata": {},
   "source": [
    "Una vez ajustados los hiperparametros más óptimos según lo calculado, se observa un RSME más inferior (2328.080) respecto a la prueba de cordura (regresión lineal=3152), indicando que nos encontramos en buen camino para hallar el mejor modelo.\n",
    "\n",
    "Se tiene los siguientes tiempos:\n",
    "- Entrenamiento: \n",
    "    - CPU times: user 307 ms, \n",
    "    - sys: 0 ns, \n",
    "    - total: 307 ms\n",
    "    - Wall time: 305 ms\n",
    "- Predicción:\n",
    "    - CPU times: user 7.42 ms\n",
    "    - sys: 0 ns\n",
    "    - total: 7.42 ms \n",
    "    - Wall time: 7.11 ms"
   ]
  },
  {
   "cell_type": "markdown",
   "metadata": {},
   "source": [
    "### Bosque Aleatorio\n",
    "\n",
    "Al igual que 'árbol de decisión', se empleará librería GridsearchCV para obtener lo mejores hiperparametros y luego entrenar nuestro modelo."
   ]
  },
  {
   "cell_type": "code",
   "execution_count": 42,
   "metadata": {},
   "outputs": [],
   "source": [
    "rf_params = {\n",
    "    'n_estimators' : [10, 20, 40],\n",
    "    'max_depth': [1, 2, 3, 4, 5, 6] \n",
    "}\n",
    "\n",
    "rf_grid = GridSearchCV(\n",
    "    estimator=RandomForestRegressor(),\n",
    "    param_grid=rf_params,\n",
    "    scoring='neg_root_mean_squared_error',\n",
    "    cv=3)"
   ]
  },
  {
   "cell_type": "code",
   "execution_count": 43,
   "metadata": {},
   "outputs": [
    {
     "name": "stderr",
     "output_type": "stream",
     "text": [
      "/home/nick/anaconda3/envs/ml_ubuntu/lib/python3.12/site-packages/numpy/ma/core.py:2820: RuntimeWarning: invalid value encountered in cast\n",
      "  _data = np.array(data, dtype=dtype, copy=copy,\n"
     ]
    },
    {
     "name": "stdout",
     "output_type": "stream",
     "text": [
      "Hiperparámetros recomendados: {'max_depth': 6, 'n_estimators': 40} | Mejor RSME: 2250.5542954273533\n"
     ]
    }
   ],
   "source": [
    "#entrenamos para encontrar mejores hiperparametros\n",
    "rf_grid.fit(X_train, y_train)\n",
    "#Buscamos mejores hiperparametros que devuelven más bajo RSME\n",
    "max_score = rf_grid.cv_results_[\"mean_test_score\"].max()\n",
    "index_max_score = np.where(rf_grid.cv_results_[\"mean_test_score\"] == max_score)[0][0]\n",
    "\n",
    "best_set_of_params = rf_grid.cv_results_[\"params\"][index_max_score]\n",
    "\n",
    "print(f'Hiperparámetros recomendados: {best_set_of_params} | Mejor RSME: {-max_score}')"
   ]
  },
  {
   "cell_type": "code",
   "execution_count": 44,
   "metadata": {},
   "outputs": [
    {
     "name": "stdout",
     "output_type": "stream",
     "text": [
      "CPU times: user 5.33 s, sys: 11.9 ms, total: 5.34 s\n",
      "Wall time: 5.34 s\n",
      "CPU times: user 72.5 ms, sys: 0 ns, total: 72.5 ms\n",
      "Wall time: 72.5 ms\n",
      "RMSE de Bosque Aleatorio: 2260.709981153769\n"
     ]
    }
   ],
   "source": [
    "#Entrenamiento de modelo\n",
    "rf_model = RandomForestRegressor(random_state=12345, max_depth=6, n_estimators=20)\n",
    "%time rf_model.fit(X_train, y_train)\n",
    "%time rf_predict = rf_model.predict(X_test)\n",
    "rf_rmse = mean_squared_error(y_test, rf_predict)**0.5\n",
    "print(f'RMSE de Bosque Aleatorio: {rf_rmse}')"
   ]
  },
  {
   "cell_type": "markdown",
   "metadata": {},
   "source": [
    "Una vez ajustados los hiperparametros más óptimos según lo calculado, se observa un RSME un poco más inferior (2259.878) al modelo anterior (2328.080), cumpliendo así con la mejora del mismo. Cabe acotar que, a dicho resultado se ha de considerar el tiempo de entrenamiento para nuestro modelo, pues el mismo resulto ser mucho más alto que el anterior, por lo que podría inferirse que, dada la mejora teniendo en cuenta el tiempo de entrenamiento del modelo, el mismo no resulta ser demasiado eficiente  considerando esto por su infima mejora del RSME que presenta respecto al Árbol de Regresión.\n",
    "\n",
    "Se tiene los siguientes tiempos:\n",
    "- Entrenamiento: \n",
    "    - CPU times: user 4.39 s\n",
    "    - sys: 3.34 ms, \n",
    "    - total: 4.39 s \n",
    "    - Wall time: 4.39 s\n",
    "- Predicción:\n",
    "    - CPU times: user 78.1 ms\n",
    "    - sys: 0 ns\n",
    "    - total: 78.1 ms\n",
    "    - Wall time: 77.8 ms"
   ]
  },
  {
   "cell_type": "markdown",
   "metadata": {},
   "source": [
    "### Catboost\n",
    "\n",
    "Empleando el método de potenciación de gradiente CatBoost para mejorar el modelo de aprendizaje. Este algoritmo no requiere que se preprocesen las características categóricas, por lo que no es necesario usar la variable que almacena el DataFrame encodificado OHE."
   ]
  },
  {
   "cell_type": "code",
   "execution_count": 45,
   "metadata": {},
   "outputs": [],
   "source": [
    "#Características y objetivos antes de OHE\n",
    "features = df_new_filt.drop('price', axis=1)\n",
    "target = df_new_filt['price']\n",
    "\n",
    "features_train, features_test, target_train, target_test = train_test_split(features, target, test_size=0.25, random_state=12345)\n",
    "\n",
    "#Selecciono sólo las columnas cuyas características son categóricas\n",
    "categorical_columns = features_train.select_dtypes(include=['object']).columns.tolist()\n",
    "\n",
    "#Tipo 'category'\n",
    "for column in categorical_columns:\n",
    "    features_train.loc[:, column] = features_train.loc[:, column].astype('category')\n",
    "    features_test.loc[:, column] = features_test.loc[:, column].astype('category')\n",
    "\n",
    "#Hiperparámetros a ajustar\n",
    "cb_params = {\n",
    "    'depth': [4, 6, 10],\n",
    "    'learning_rate': [0.1, 0.2, 0.5]\n",
    "}\n",
    "\n",
    "#Estimador\n",
    "cb_est = CatBoostRegressor(iterations=100, cat_features=categorical_columns, verbose=False, loss_function='RMSE')\n",
    "\n",
    "cb_grid = GridSearchCV(\n",
    "    estimator=cb_est,\n",
    "    param_grid=cb_params,\n",
    "    scoring='neg_root_mean_squared_error',\n",
    "    cv=3\n",
    ")"
   ]
  },
  {
   "cell_type": "code",
   "execution_count": 46,
   "metadata": {},
   "outputs": [
    {
     "name": "stdout",
     "output_type": "stream",
     "text": [
      "Hiperparámetros recomendados: {'depth': 10, 'learning_rate': 0.5} | Mejor RSME: 1626.5324008123105\n"
     ]
    }
   ],
   "source": [
    "cb_grid.fit(features_train, target_train)\n",
    "\n",
    "max_score = cb_grid.cv_results_[\"mean_test_score\"].max()\n",
    "index_max_score = np.where(cb_grid.cv_results_[\"mean_test_score\"] == max_score)[0][0]\n",
    "\n",
    "best_params = cb_grid.cv_results_[\"params\"][index_max_score]\n",
    "\n",
    "print(f'Hiperparámetros recomendados: {best_params} | Mejor RSME: {-max_score}')"
   ]
  },
  {
   "cell_type": "code",
   "execution_count": 47,
   "metadata": {},
   "outputs": [
    {
     "name": "stdout",
     "output_type": "stream",
     "text": [
      "CPU times: user 21.6 s, sys: 2.07 s, total: 23.7 s\n",
      "Wall time: 4.48 s\n",
      "CPU times: user 87.5 ms, sys: 36.6 ms, total: 124 ms\n",
      "Wall time: 70.9 ms\n",
      "RMSE de CatBoost: 1615.3803898078384\n"
     ]
    }
   ],
   "source": [
    "cb_model = CatBoostRegressor(random_state=12345, iterations=100, depth=10, learning_rate=0.5, loss_function='RMSE', cat_features=categorical_columns, verbose=False)\n",
    "%time cb_model.fit(features_train, target_train)\n",
    "%time cb_predict = cb_model.predict(features_test)\n",
    "cb_rmse = mean_squared_error(target_test, cb_predict)**0.5\n",
    "print(f'RMSE de CatBoost: {cb_rmse}')"
   ]
  },
  {
   "cell_type": "markdown",
   "metadata": {},
   "source": [
    "Una vez ajustados los hiperparametros más óptimos según lo calculado, se observa un RSME de enorme mejora (1615.380), cumpliendo además con un tiempo de entrenamiento bastante optimo, por lo que, hasta ahora, el modelo de entrenamiento basado en catboost viene siendo el más prometedor, tanto en velocidad como en eficiencia en las predicciones.\n",
    "\n",
    "Se tiene los siguientes tiempos:\n",
    "- Entrenamiento: \n",
    "    - CPU times: user 21.7 s\n",
    "    - sys:  47.4 ms, \n",
    "    - total: 21.7 s \n",
    "    - Wall time: 21.8 s\n",
    "- Predicción:\n",
    "    - CPU times: 85.6 ms \n",
    "    - sys: 0 ns\n",
    "    - total: 85.6 ms\n",
    "    - Wall time: 85.5 ms"
   ]
  },
  {
   "cell_type": "markdown",
   "metadata": {},
   "source": [
    "### XGBoost\n",
    "\n",
    "A diferencia de CatBoost, XGBoost requiere previamente un encodificado de características, por lo que tomaremos el conjunto perteneciente a tal encodificado OHE \n",
    "ya que sólo acepta características númericas."
   ]
  },
  {
   "cell_type": "code",
   "execution_count": 48,
   "metadata": {},
   "outputs": [],
   "source": [
    "#Hiperparametros\n",
    "xgb_params = {'max_depth': [4, 6, 8], \n",
    "            'n_estimators': [50, 100],\n",
    "            'learning_rate': [0.05, 0.1],\n",
    "            'subsample': [0.6, 0.8]\n",
    "}\n",
    "\n",
    "xgb_est = XGBRegressor()\n",
    "\n",
    "xgb_grid = GridSearchCV(estimator=xgb_est, param_grid=xgb_params, scoring='neg_root_mean_squared_error', cv=3)"
   ]
  },
  {
   "cell_type": "code",
   "execution_count": 49,
   "metadata": {},
   "outputs": [
    {
     "data": {
      "text/plain": [
       "'#Buscamos los mejores hiperparametros\\nxgb_grid.fit(X_train, y_train)\\nmax_score = xgb_grid.cv_results_[\"mean_test_score\"].max()\\nindex_max_score = np.where(xgb_grid.cv_results_[\"mean_test_score\"] == max_score)[0][0]\\n\\nbest_params = xgb_grid.cv_results_[\"params\"][index_max_score]\\n\\nprint(f\\'Hiperparámetros recomendados: {best_params} | Mejor RSME: {-max_score}\\')'"
      ]
     },
     "execution_count": 49,
     "metadata": {},
     "output_type": "execute_result"
    }
   ],
   "source": [
    "\"\"\"#Buscamos los mejores hiperparametros\n",
    "xgb_grid.fit(X_train, y_train)\n",
    "max_score = xgb_grid.cv_results_[\"mean_test_score\"].max()\n",
    "index_max_score = np.where(xgb_grid.cv_results_[\"mean_test_score\"] == max_score)[0][0]\n",
    "\n",
    "best_params = xgb_grid.cv_results_[\"params\"][index_max_score]\n",
    "\n",
    "print(f'Hiperparámetros recomendados: {best_params} | Mejor RSME: {-max_score}')\"\"\""
   ]
  },
  {
   "cell_type": "markdown",
   "metadata": {},
   "source": [
    "**NOTA**: El código anterior se ha dejado comentado debido al tiempo requerido de cálculo para hallar los hiperparmaetros más óptimos."
   ]
  },
  {
   "cell_type": "code",
   "execution_count": 50,
   "metadata": {},
   "outputs": [
    {
     "name": "stdout",
     "output_type": "stream",
     "text": [
      "CPU times: user 13 s, sys: 68 ms, total: 13.1 s\n",
      "Wall time: 1.74 s\n",
      "CPU times: user 449 ms, sys: 9.66 ms, total: 458 ms\n",
      "Wall time: 59.6 ms\n",
      "RMSE de XGBoost: 1619.0696850018041\n"
     ]
    }
   ],
   "source": [
    "#Entrenamos modelo con hiperparametros\n",
    "xgb_model = XGBRegressor(random_state=12345, max_depth=8, n_estimators=100, learning_rate=0.1, subsample=0.8)\n",
    "%time xgb_model.fit(X_train, y_train)\n",
    "%time xgb_predict = xgb_model.predict(X_test)\n",
    "xgb_rmse = mean_squared_error(y_test, xgb_predict)**0.5\n",
    "print(f'RMSE de XGBoost: {xgb_rmse}')"
   ]
  },
  {
   "cell_type": "markdown",
   "metadata": {},
   "source": [
    "Una vez ajustados los hiperparametros más óptimos según lo calculado, se observa un RSME bastante aceptable (1619) respecto a la prueba de cordura (3155.442) pero no con una mejora respecto a catboost(1615).\n",
    "\n",
    "Se obtuvo los siguientes tiempos:\n",
    "- Entrenamiento: \n",
    "    - CPU times: user 39.4 s\n",
    "    - sys: 123 ms\n",
    "    - total: 39.5 s\n",
    "    - Wall time: 39.8 s\n",
    "- Predicción:\n",
    "    - CPU times: user 429 ms\n",
    "    - sys: 0 ns\n",
    "    - total: 429 ms\n",
    "    - Wall time: 418 ms"
   ]
  },
  {
   "cell_type": "markdown",
   "metadata": {},
   "source": [
    "### LightGBM\n",
    "\n",
    "Al igual que CatBoost, puede emplearse sin el preprocesamiento de las características categóricas encodificadas con OHE. Además, es necesario que se transformen previamente las características a tipo int o category."
   ]
  },
  {
   "cell_type": "code",
   "execution_count": 51,
   "metadata": {},
   "outputs": [],
   "source": [
    "#Igual que catboost, tomo el conjunto para antes de OHE\n",
    "for col in categorical_columns:\n",
    "    df_new_filt[col] = df_new_filt[col].astype('category')\n",
    "\n",
    "X_LGBM = df_new_filt.drop('price', axis=1)\n",
    "y_LGBM = df_new_filt['price']\n",
    "\n",
    "X_LGBM_train, X_LGBM_test, y_LGBM_train, y_LGBM_test = train_test_split(X_LGBM, y_LGBM, test_size=0.25, random_state=12345)"
   ]
  },
  {
   "cell_type": "code",
   "execution_count": 52,
   "metadata": {},
   "outputs": [],
   "source": [
    "LGBM_params = {\n",
    "    'n_estimators': [100, 150, 300],\n",
    "    'learning_rate': [0.1, 0.2, 0.5],\n",
    "    'num_leaves': [10, 20, 30],\n",
    "    'max_depth': [5, 8, 10],\n",
    "    'subsample': [0.6, 0.7, 0.8]\n",
    "}\n",
    "\n",
    "LGBM_est = LGBMRegressor()\n",
    "\n",
    "LGBM_grid = GridSearchCV(\n",
    "    estimator=LGBM_est,\n",
    "    param_grid=LGBM_params,\n",
    "    scoring='neg_root_mean_squared_error',\n",
    "    cv=3  \n",
    ")"
   ]
  },
  {
   "cell_type": "code",
   "execution_count": 53,
   "metadata": {},
   "outputs": [
    {
     "data": {
      "text/plain": [
       "'LGBM_grid.fit(X_LGBM_train, y_LGBM_train)\\n\\nmax_score = LGBM_grid.cv_results_[\"mean_test_score\"].max()\\nindex_max_score = np.where(LGBM_grid.cv_results_[\"mean_test_score\"] == max_score)[0][0]\\n\\nbest_params = LGBM_grid.cv_results_[\"params\"][index_max_score]\\n\\nprint(f\\'Hiperparámetros recomendados: {best_params} | Mejor RECM: {-max_score}\\')'"
      ]
     },
     "execution_count": 53,
     "metadata": {},
     "output_type": "execute_result"
    }
   ],
   "source": [
    "#Entrenamos para hallar los mejores hiperparametros\n",
    "\"\"\"LGBM_grid.fit(X_LGBM_train, y_LGBM_train)\n",
    "\n",
    "max_score = LGBM_grid.cv_results_[\"mean_test_score\"].max()\n",
    "index_max_score = np.where(LGBM_grid.cv_results_[\"mean_test_score\"] == max_score)[0][0]\n",
    "\n",
    "best_params = LGBM_grid.cv_results_[\"params\"][index_max_score]\n",
    "\n",
    "print(f'Hiperparámetros recomendados: {best_params} | Mejor RECM: {-max_score}')\"\"\""
   ]
  },
  {
   "cell_type": "markdown",
   "metadata": {},
   "source": [
    "**NOTA**: El código anterior se ha dejado comentado debido al tiempo requerido de cálculo para hallar los hiperparametros más óptimos."
   ]
  },
  {
   "cell_type": "code",
   "execution_count": 54,
   "metadata": {},
   "outputs": [
    {
     "name": "stdout",
     "output_type": "stream",
     "text": [
      "[LightGBM] [Info] Auto-choosing row-wise multi-threading, the overhead of testing was 0.008602 seconds.\n",
      "You can set `force_row_wise=true` to remove the overhead.\n",
      "And if memory is not enough, you can set `force_col_wise=true`.\n",
      "[LightGBM] [Info] Total Bins 711\n",
      "[LightGBM] [Info] Number of data points in the train set: 171426, number of used features: 10\n",
      "[LightGBM] [Info] Start training from score 5157.759978\n",
      "CPU times: user 11.1 s, sys: 77.5 ms, total: 11.2 s\n",
      "Wall time: 1.64 s\n",
      "CPU times: user 1.43 s, sys: 0 ns, total: 1.43 s\n",
      "Wall time: 186 ms\n",
      "RMSE de LightGBM: 1575.5393829849745\n"
     ]
    }
   ],
   "source": [
    "LGBM_model = LGBMRegressor(n_estimators=300, learning_rate=0.2, num_leaves=30, max_depth=10, subsample=0.6, random_state=12345)\n",
    "%time LGBM_model.fit(X_LGBM_train, y_LGBM_train)\n",
    "%time LGBM_predict = LGBM_model.predict(X_LGBM_test)\n",
    "LGBM_rmse = mean_squared_error(y_LGBM_test, LGBM_predict)**0.5\n",
    "print(f'RMSE de LightGBM: {LGBM_rmse}')"
   ]
  },
  {
   "cell_type": "markdown",
   "metadata": {},
   "source": [
    "Una vez ajustados los hiperparametros más óptimos según lo calculado, se observa un RSME de enorme mejora (1575.539) respecto a la prueba de cordura (2768.90) y, naturalmente, respecto a xgboost (1637.026) y catboost(1615.380). Por lo que, LightGBM pasará a ser nuestro metodo de potenciación de gradiente escogido para construir nuestro modelo.\n",
    "\n",
    "Se obtuvo los siguientes tiempos:\n",
    "- Entrenamiento: \n",
    "    - CPU times: user 4.95 s\n",
    "    - sys: 36.9 ms\n",
    "    - total:  4.99 s\n",
    "    - Wall time: 4.96 s\n",
    "- Predicción:\n",
    "    - CPU times:  1.52 s\n",
    "    - sys: 0 ns\n",
    "    - total: 1.52 s\n",
    "    - Wall time: 1.51 s"
   ]
  },
  {
   "cell_type": "markdown",
   "metadata": {},
   "source": [
    "## Análisis del modelo"
   ]
  },
  {
   "cell_type": "code",
   "execution_count": 55,
   "metadata": {},
   "outputs": [
    {
     "name": "stdout",
     "output_type": "stream",
     "text": [
      "              modelo  tiempo_ajuste_hiperparámetros  tiempo_de_entrenamiento  \\\n",
      "0   Regresión Lineal                         0.0423                   0.0419   \n",
      "1  Árbol de Decisión                         0.3070                   0.3050   \n",
      "2   Bosque Aleatorio                         4.3900                   4.3900   \n",
      "3           CatBoost                        21.8000                  21.8000   \n",
      "4            XGBoost                        39.4000                  39.8000   \n",
      "5           LightGBM                         4.9600                   4.9600   \n",
      "\n",
      "   tiempo_de_prueba         RMSE  \n",
      "0            0.0357  3155.442864  \n",
      "1            0.0711  2328.080497  \n",
      "2            0.0778  2259.878031  \n",
      "3            0.0855  1615.380390  \n",
      "4            0.4180  1615.427507  \n",
      "5            1.5100  1575.539383  \n"
     ]
    }
   ],
   "source": [
    "#Ordenando resultado en un DataFrame para mejor visualización\n",
    "data_models = {\n",
    "    'modelo': ['Regresión Lineal', 'Árbol de Decisión', 'Bosque Aleatorio', 'CatBoost', 'XGBoost', 'LightGBM'],\n",
    "    'tiempo_ajuste_hiperparámetros': [0.0423, 0.307, 4.39, 21.8, 39.4, 4.96],\n",
    "    'tiempo_de_entrenamiento': [0.0419, 0.305, 4.39, 21.8, 39.8, 4.96],\n",
    "    'tiempo_de_prueba': [0.0357, 0.0711, 0.0778, 0.0855, 0.418, 1.51],\n",
    "    'RMSE': [3155.4428640331175, 2328.080497374315, 2259.878030906163, 1615.3803898078384, 1615.4275074653872, 1575.5393829849745]\n",
    "}\n",
    "\n",
    "models_table = pd.DataFrame(data_models)\n",
    "\n",
    "print(models_table)"
   ]
  },
  {
   "cell_type": "code",
   "execution_count": 56,
   "metadata": {},
   "outputs": [
    {
     "data": {
      "image/png": "[encoded data removed]",
      "text/plain": [
       "<Figure size 2000x1200 with 4 Axes>"
      ]
     },
     "metadata": {},
     "output_type": "display_data"
    }
   ],
   "source": [
    "fig, axs = plt.subplots(nrows=2, ncols=2, figsize=(20, 12))\n",
    "fig.suptitle('Análisis de velocidad y calidad por modelo', fontsize=19)\n",
    "plt.subplots_adjust(hspace=0.4)\n",
    "\n",
    "#Gráfico 1: Tiempo de ajuste de hiperparámetros\n",
    "axs[0, 0].barh(models_table['modelo'], models_table['tiempo_ajuste_hiperparámetros'], color='b')\n",
    "axs[0, 0].set_xlabel('Tiempo de Ajuste de Hiperparámetros (s)')\n",
    "axs[0, 0].set_title('Tiempo de Ajuste de Hiperparámetros por Modelo')\n",
    "\n",
    "#Gráfico 2: Tiempo de entrenamiento\n",
    "axs[0, 1].barh(models_table['modelo'], models_table['tiempo_de_entrenamiento'], color='g')\n",
    "axs[0, 1].set_xlabel('Tiempo de Entrenamiento (s)')\n",
    "axs[0, 1].set_title('Tiempo de Entrenamiento por Modelo')\n",
    "\n",
    "#Gráfico 3: Tiempo de prueba\n",
    "axs[1, 0].barh(models_table['modelo'], models_table['tiempo_de_prueba'], color='orange')\n",
    "axs[1, 0].set_xlabel('Tiempo de Prueba (s)')\n",
    "axs[1, 0].set_title('Tiempo de Prueba por Modelo')\n",
    "\n",
    "#Gráfico 4: RMSE\n",
    "axs[1, 1].barh(models_table['modelo'], models_table['RMSE'], color='r')\n",
    "axs[1, 1].set_xlabel('RMSE')\n",
    "axs[1, 1].set_title('RMSE por Modelo')\n",
    "\n",
    "#Mostrar el gráfico\n",
    "plt.show()"
   ]
  },
  {
   "cell_type": "markdown",
   "metadata": {},
   "source": [
    "De lo anterior se deduce que, para el tiempo de ajustes de hiperparametros y entrenamiento, el modelo basado en XGBoost requiere más tiempo y, además, los más veloces son Árbol de Decisión y LightGBM.\n",
    "\n",
    "Respecto a su tiempo de predicción y RMSE, se observa que, Bosque Aleatorio y Catboost son los más veloces, mientras que LightGBM mostró la mejor precisión de todos los modelos examinados, pues el valor de este fue el más bajo. Modelo a usar: LightGBM\n",
    "\n",
    "En los ajustes de los hiperparametros se pueden observar, para cada uno de los modelos, diferentes de los mismos, seleccionados para ser los que directamente se ajusten para conseguir la mejor calidad en la construcción de nuestro modelo. Se probaron varios valores para la profundidad de arbol, número mínimo de muestras para dividir nodo interno y muestras requeridas para ser nodo final, además de, por supuesto, en otros modelos observarlo con varias combinaciones de número de árboles en bosque aleatorio al igual que con el hiperparametros de la tasa de aprendizaje (learning_rate), la fracción de muestra a utilizar para entrenar cada árbol y el número de hojas máximo por árbol, siempre especificando que la función de pérdida a usar es rmse. Luego se especifíco neg_root_mean_squared_error para evaluar calidad de combinaciones de hiperparametros. cv es el número de pliegues en validación cruzada. Por último, se emplea un diccionario en conjunto con una clave que proporciona el promedio en el conjunto de prueba para cada combinación de hiperparametros y encuentra el puntaje más alto, extrayendo el primer índice de la lista, encuentra el índice donde el puntaje promedio del conjunto de prueba es igual a la puntuación máxima; todo esto manteniendo coherencia con la división del conjunto de datos test_size=0.25"
   ]
  },
  {
   "cell_type": "markdown",
   "metadata": {},
   "source": [
    "# CONCLUSIÓN\n",
    "\n",
    "En la primera parte, se tiene la exploración y el preprocesamiento de datos, donde se abordaron todos los detalles pertinentes al dataset antes de proceder a la evaluación y construcción de nuestro modelo de aprendizaje. Se manejaron valores duplicados y ausentes, eliminando aquellos que no pudieron rellenarse una vez creada y aplicada la función correspondiente para tal tarea. Se filtraro y transformaron los datos átipicos teniendo en cuenta el mercado al que va dirigido el modelo y el cliente que nos ha solicitado tal tarea.\n",
    "\n",
    "Una vez codificadas y escaladas las características, se impementaron diferentes modelos de regresión al igual que distintas formas de potenciación de gradiente para encontrar el mejor, seguido del ajuste de los hiperparámetros ayudados de GridSearchCV que nos permitió obtener las predicciones más optimas dado ciertos ajustes de los mismos, para por fin, una vez evaluados todos, llegar a la conclusión de que el modelo basado en LightGBM  es el más apropiado y optimo en la utilización de nuestro mmodelo de aprendizaje por arrojar los valores más aceptables, superando con creces a la regresión lineal, árbol de decisión y bosque aleatorio. Por lo que, LightGBM ofrece la mejor combinación en lo solicitado por Bargain (velocidad y calidad) para determinar el valor de mercado de un coche de segunda mano."
   ]
  }
 ],
 "metadata": {
  "kernelspec": {
   "display_name": "ml_ubuntu",
   "language": "python",
   "name": "python3"
  },
  "language_info": {
   "codemirror_mode": {
    "name": "ipython",
    "version": 3
   },
   "file_extension": ".py",
   "mimetype": "text/x-python",
   "name": "python",
   "nbconvert_exporter": "python",
   "pygments_lexer": "ipython3",
   "version": "3.12.4"
  }
 },
 "nbformat": 4,
 "nbformat_minor": 2
}
